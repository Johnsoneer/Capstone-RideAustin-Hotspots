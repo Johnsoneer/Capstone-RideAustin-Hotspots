{
 "cells": [
  {
   "cell_type": "code",
   "execution_count": 14,
   "metadata": {
    "collapsed": false
   },
   "outputs": [],
   "source": [
    "from model import HotspotPredictor\n",
    "import pandas as pd\n",
    "import numpy as np\n",
    "import mysql.connector as msc\n",
    "import datetime as dt\n",
    "from collections import Counter\n",
    "from bokeh.io import output_file, show, output_notebook\n",
    "from bokeh.models import (\n",
    "  GMapPlot, GMapOptions, ColumnDataSource, Circle, DataRange1d, PanTool, WheelZoomTool, BoxSelectTool\n",
    ")\n",
    "from sklearn.cluster import KMeans\n",
    "import random\n",
    "from sklearn.ensemble import RandomForestRegressor\n",
    "from geopy.distance import vincenty\n",
    "from sklearn.cross_validation import train_test_split, cross_val_score"
   ]
  },
  {
   "cell_type": "code",
   "execution_count": 16,
   "metadata": {
    "collapsed": true
   },
   "outputs": [],
   "source": [
    "engine = msc.connect(user='root', password='asdfghjkl;',\n",
    "                              host='127.0.0.1',\n",
    "                              database='rideaustin')\n",
    "df = pd.read_sql('SELECT start_location_lat,start_location_long, created_date,tod FROM rides  WHERE status = \"NO_AVAILABLE_DRIVER\" OR status = \"Completed\";', engine)"
   ]
  },
  {
   "cell_type": "code",
   "execution_count": 17,
   "metadata": {
    "collapsed": false
   },
   "outputs": [],
   "source": [
    "hotspot = HotspotPredictor(df)"
   ]
  },
  {
   "cell_type": "code",
   "execution_count": null,
   "metadata": {
    "collapsed": true
   },
   "outputs": [],
   "source": []
  }
 ],
 "metadata": {
  "kernelspec": {
   "display_name": "Python 2",
   "language": "python",
   "name": "python2"
  },
  "language_info": {
   "codemirror_mode": {
    "name": "ipython",
    "version": 2
   },
   "file_extension": ".py",
   "mimetype": "text/x-python",
   "name": "python",
   "nbconvert_exporter": "python",
   "pygments_lexer": "ipython2",
   "version": "2.7.13"
  }
 },
 "nbformat": 4,
 "nbformat_minor": 2
}
